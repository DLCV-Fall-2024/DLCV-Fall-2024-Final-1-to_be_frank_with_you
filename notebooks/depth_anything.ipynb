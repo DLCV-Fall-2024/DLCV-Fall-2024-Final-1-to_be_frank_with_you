{
 "cells": [
  {
   "cell_type": "code",
   "execution_count": 1,
   "metadata": {},
   "outputs": [],
   "source": [
    "%load_ext autoreload\n",
    "%autoreload 2\n",
    "\n",
    "import sys\n",
    "\n",
    "sys.path.append(\"../\")"
   ]
  },
  {
   "cell_type": "code",
   "execution_count": null,
   "metadata": {},
   "outputs": [],
   "source": [
    "import torch\n",
    "from datasets import load_dataset\n",
    "from depth_anything_v2.depth_anything_v2.dpt import DepthAnythingV2\n",
    "\n",
    "DEVICE = 'cuda' if torch.cuda.is_available() else 'mps' if torch.backends.mps.is_available() else 'cpu'\n",
    "ENCODER = 'vits' # or 'vits', 'vitb', 'vitg'\n",
    "MODEL_PATH = f'/home/tomchen/Downloads/depth_anything_v2_{ENCODER}.pth'\n",
    "\n",
    "model_configs = {\n",
    "    'vits': {'encoder': 'vits', 'features': 64, 'out_channels': [48, 96, 192, 384]},\n",
    "    'vitb': {'encoder': 'vitb', 'features': 128, 'out_channels': [96, 192, 384, 768]},\n",
    "    'vitl': {'encoder': 'vitl', 'features': 256, 'out_channels': [256, 512, 1024, 1024]},\n",
    "    'vitg': {'encoder': 'vitg', 'features': 384, 'out_channels': [1536, 1536, 1536, 1536]}\n",
    "}\n",
    "\n",
    "model = DepthAnythingV2(**model_configs[ENCODER])\n",
    "model.load_state_dict(torch.load(MODEL_PATH, map_location='cpu'))\n",
    "model = model.to(DEVICE).eval()\n",
    "# Load the dataset\n",
    "dataset = load_dataset(\"ntudlcv/dlcv_2024_final1\")"
   ]
  },
  {
   "cell_type": "code",
   "execution_count": null,
   "metadata": {},
   "outputs": [],
   "source": [
    "import numpy as np\n",
    "from torch.utils.data import DataLoader\n",
    "\n",
    "\n",
    "# Custom collate function to handle dictionaries with PIL images\n",
    "def collate_fn(batch):\n",
    "    images = [item[\"image\"] for item in batch]\n",
    "    other_properties = [\n",
    "        {k: v for k, v in item.items() if k != \"image\"} for item in batch\n",
    "    ]\n",
    "    return images, other_properties\n",
    "\n",
    "\n",
    "# Create a DataLoader for the dataset with the custom collate function\n",
    "data_loader = DataLoader(\n",
    "    dataset[\"train\"], batch_size=8, shuffle=True, collate_fn=collate_fn\n",
    ")\n",
    "\n",
    "# Load only one batch\n",
    "images, other_properties = next(iter(data_loader))\n",
    "\n",
    "# Get depth maps for the images\n",
    "depths = []\n",
    "for image in images:\n",
    "    depth = model.infer_image(np.array(image))\n",
    "    depth = (depth - depth.min()) / (depth.max() - depth.min()) * 255\n",
    "    depths.append(depth)"
   ]
  },
  {
   "cell_type": "code",
   "execution_count": 21,
   "metadata": {},
   "outputs": [
    {
     "name": "stdout",
     "output_type": "stream",
     "text": [
      "torch.Size([1, 64, 296, 560]) torch.Size([1, 64, 148, 280]) torch.Size([1, 64, 74, 140]) torch.Size([1, 64, 37, 70])\n",
      "torch.Size([1, 518, 980])\n",
      "torch.Size([720, 1355])\n"
     ]
    }
   ],
   "source": [
    "image = images[0]\n",
    "depth = model.infer_image(np.array(image))\n",
    "depth = (depth - depth.min()) / (depth.max() - depth.min()) * 255\n",
    "depths.append(depth)"
   ]
  },
  {
   "cell_type": "code",
   "execution_count": null,
   "metadata": {},
   "outputs": [],
   "source": [
    "import matplotlib.pyplot as plt\n",
    "\n",
    "# Plot a grid showing the original images and the depth maps\n",
    "fig, axes = plt.subplots(nrows=4, ncols=4, figsize=(10, 7))\n",
    "\n",
    "for i, (image, depth) in enumerate(zip(images, depths)):\n",
    "    row = (i // 4) * 2\n",
    "    col = i % 4\n",
    "\n",
    "    axes[row, col].imshow(image)\n",
    "    axes[row, col].axis(\"off\")\n",
    "    axes[row, col].set_title(f\"Original {i+1}\")\n",
    "\n",
    "    axes[row + 1, col].imshow(depth, cmap=\"viridis\")\n",
    "    axes[row + 1, col].axis(\"off\")\n",
    "    axes[row + 1, col].set_title(f\"Depth {i+1}\")\n",
    "\n",
    "plt.tight_layout(h_pad=0)\n",
    "plt.show()"
   ]
  }
 ],
 "metadata": {
  "kernelspec": {
   "display_name": "final",
   "language": "python",
   "name": "python3"
  },
  "language_info": {
   "codemirror_mode": {
    "name": "ipython",
    "version": 3
   },
   "file_extension": ".py",
   "mimetype": "text/x-python",
   "name": "python",
   "nbconvert_exporter": "python",
   "pygments_lexer": "ipython3",
   "version": "3.13.1"
  }
 },
 "nbformat": 4,
 "nbformat_minor": 2
}
